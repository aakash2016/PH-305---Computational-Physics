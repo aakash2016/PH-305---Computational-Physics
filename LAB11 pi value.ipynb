{
 "cells": [
  {
   "cell_type": "code",
   "execution_count": 37,
   "metadata": {},
   "outputs": [
    {
     "name": "stdout",
     "output_type": "stream",
     "text": [
      "3.14468\n",
      "3.99996\n"
     ]
    }
   ],
   "source": [
    "## Lab 11(last lab of the season)\n",
    "## Q2\n",
    " \n",
    "import numpy as np\n",
    "\n",
    "## Heaviside function\n",
    "def heaviside(x, y):\n",
    "    if x**2 + y**2 <= 1:\n",
    "        return 1\n",
    "    else:\n",
    "        return 0\n",
    "\n",
    "## Area of Square\n",
    "A = 4 # side = 2 uts\n",
    "N = 100000\n",
    "\n",
    "## Using Computer generated Random Numbers\n",
    "## random numbers between -1 and 1\n",
    "x = 1 - 2*np.random.random(N)\n",
    "y = 1 - 2*np.random.random(N)\n",
    "\n",
    "# Integration\n",
    "summ = 0\n",
    "for i in range(N):\n",
    "    summ += heaviside(x[i], y[i])\n",
    "    \n",
    "## Final Integration \n",
    "Qn = (A/N)*summ\n",
    "print(Qn) ## OMG! thats very close to pi\n",
    "\n",
    "## Now, Using Linear Congruential Generator \n",
    "p = np.zeros(N)\n",
    "q = np.zeros(N)\n",
    "a = 4\n",
    "c = 1\n",
    "m = 9\n",
    "p[0] = 3\n",
    "q[0] = 3\n",
    "for i in range(N-1):\n",
    "    q[i+1] = (a*q[i] + c)%m\n",
    "    p[i+1] = (a*p[i] + c)%m\n",
    "    p[i+1] /= m-1\n",
    "    q[i+1] /= m-1\n",
    "    \n",
    "summ2 = 0\n",
    "for i in range(N):\n",
    "    summ2 += heaviside(p[i], q[i])\n",
    "  \n",
    "Q2n = (A/N)*summ2\n",
    "print(Q2n) ## OMG! thats very close to pi"
   ]
  }
 ],
 "metadata": {
  "kernelspec": {
   "display_name": "Python 3",
   "language": "python",
   "name": "python3"
  },
  "language_info": {
   "codemirror_mode": {
    "name": "ipython",
    "version": 3
   },
   "file_extension": ".py",
   "mimetype": "text/x-python",
   "name": "python",
   "nbconvert_exporter": "python",
   "pygments_lexer": "ipython3",
   "version": "3.6.4"
  }
 },
 "nbformat": 4,
 "nbformat_minor": 2
}
