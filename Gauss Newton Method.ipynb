{
 "cells": [
  {
   "cell_type": "code",
   "execution_count": 15,
   "metadata": {},
   "outputs": [
    {
     "name": "stdout",
     "output_type": "stream",
     "text": [
      "0.7458923835500146\n",
      "0.009784185120915886\n",
      "0.0006999175463613498\n",
      "0.0006616648653470865\n",
      "0.0006616590071376249\n",
      "0.0006616589915387665\n",
      "0.0006616589914971103\n",
      "0.0006616589914969943\n",
      "0.000661658991496995\n",
      "0.0006616589914970006\n",
      "0.000661658991496995\n",
      "0.0006616589914969974\n"
     ]
    }
   ],
   "source": [
    "import numpy as np\n",
    "\n",
    "x = np.array([0.25, 0.75, 1.25, 1.75, 2.25], dtype = np.float)\n",
    "y = np.array([0.28, 0.57, 0.68, 0.74, 0.79], dtype = np.float)\n",
    "A = np.array([1.4, 1.2]) # Guess A\n",
    "\n",
    "# function f\n",
    "def f(a0, a1, x):\n",
    "    return(a0 * (1.0 - np.exp(-a1 * x)))\n",
    "\n",
    "## Derivative wrt a0\n",
    "def derivative_a0(a0, a1, x):\n",
    "    return(1.0 - np.exp(-a1 * x))\n",
    "\n",
    "## Derivative wrt a1\n",
    "def derivative_a1(a0, a1, x):\n",
    "    return(a0*x*np.exp(-a1 * x))       \n",
    "  \n",
    "## Calculate A_new\n",
    "def findnew_A(x, y, A):\n",
    "    Z = np.zeros((5,2), dtype = np.float)                           \n",
    "    D = np.zeros(5, dtype = np.float)\n",
    "\n",
    "    for i in range(5):\n",
    "        Z[i][0] = derivative_a0(A[0], A[1], x[i])\n",
    "        D[i] = y[i] - f(A[0], A[1], x[i])\n",
    "        Z[i][1] = derivative_a1(A[0], A[1], x[i])\n",
    "\n",
    "    # Sum of Squares of Residuals\n",
    "    SSR = np.sum(np.square(D))\n",
    "    dA = np.matmul(np.linalg.inv(np.matmul(Z.T, Z)), np.matmul(Z.T, D)) \n",
    "    A_new = dA + A\n",
    "    return A_new, SSR\n",
    "\n",
    "while True:\n",
    "    A_new, SSR = findnew_A(x, y, A)\n",
    "    err0 = np.abs((A_new[0] - A[0])/A_new[0])*100\n",
    "    err1 = np.abs((A_new[1] - A[1])/A_new[1])*100\n",
    "    if err0 < 1e-12 and err1 < 1e-12:\n",
    "        break\n",
    "    else:\n",
    "        A[:] = A_new[:]\n",
    "    print(SSR)     "
   ]
  }
 ],
 "metadata": {
  "kernelspec": {
   "display_name": "Python 3",
   "language": "python",
   "name": "python3"
  },
  "language_info": {
   "codemirror_mode": {
    "name": "ipython",
    "version": 3
   },
   "file_extension": ".py",
   "mimetype": "text/x-python",
   "name": "python",
   "nbconvert_exporter": "python",
   "pygments_lexer": "ipython3",
   "version": "3.6.4"
  }
 },
 "nbformat": 4,
 "nbformat_minor": 2
}
